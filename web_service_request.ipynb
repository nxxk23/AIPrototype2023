{
  "nbformat": 4,
  "nbformat_minor": 0,
  "metadata": {
    "colab": {
      "provenance": [],
      "authorship_tag": "ABX9TyMIZeCf2VXXgcrqpnQ6E9PQ",
      "include_colab_link": true
    },
    "kernelspec": {
      "name": "python3",
      "display_name": "Python 3"
    },
    "language_info": {
      "name": "python"
    }
  },
  "cells": [
    {
      "cell_type": "markdown",
      "metadata": {
        "id": "view-in-github",
        "colab_type": "text"
      },
      "source": [
        "<a href=\"https://colab.research.google.com/github/nxxk23/AIPrototype2023/blob/main/web_service_request.ipynb\" target=\"_parent\"><img src=\"https://colab.research.google.com/assets/colab-badge.svg\" alt=\"Open In Colab\"/></a>"
      ]
    },
    {
      "cell_type": "code",
      "execution_count": 1,
      "metadata": {
        "id": "WBOS1KEohpzi"
      },
      "outputs": [],
      "source": [
        "import requests #not the same as flask\n",
        "import json"
      ]
    },
    {
      "cell_type": "code",
      "source": [
        "url = 'http://20.70.14.212:5001/request'\n",
        "myobj = {'message_key': 'message_val', #format json likes dict\n",
        "         'msg': 'สวัสดีไทยแลนด์'}\n",
        "\n",
        "x = requests.post(url, data = json.dumps(myobj))"
      ],
      "metadata": {
        "id": "NyhVVB8Fh2ov"
      },
      "execution_count": 2,
      "outputs": []
    },
    {
      "cell_type": "code",
      "source": [
        "print(x.text)"
      ],
      "metadata": {
        "colab": {
          "base_uri": "https://localhost:8080/"
        },
        "id": "HojwSfXqiiXw",
        "outputId": "aebd45c2-c91e-4037-f26a-c174770971d5"
      },
      "execution_count": 3,
      "outputs": [
        {
          "output_type": "stream",
          "name": "stdout",
          "text": [
            "{\"y\": \"received!\"}\n"
          ]
        }
      ]
    },
    {
      "cell_type": "code",
      "source": [
        "print(x.json())"
      ],
      "metadata": {
        "colab": {
          "base_uri": "https://localhost:8080/"
        },
        "id": "CvtFLOM5kWZJ",
        "outputId": "e26cb99a-c9ba-479b-f709-4365e8eab62c"
      },
      "execution_count": 4,
      "outputs": [
        {
          "output_type": "stream",
          "name": "stdout",
          "text": [
            "{'y': 'received!'}\n"
          ]
        }
      ]
    },
    {
      "cell_type": "code",
      "source": [
        "d_out = x.json()\n",
        "d_out['y']"
      ],
      "metadata": {
        "colab": {
          "base_uri": "https://localhost:8080/",
          "height": 36
        },
        "id": "jedmyrezkXHv",
        "outputId": "70f91495-9cd7-4161-8e6c-01fcb7e38a93"
      },
      "execution_count": 5,
      "outputs": [
        {
          "output_type": "execute_result",
          "data": {
            "text/plain": [
              "'received!'"
            ],
            "application/vnd.google.colaboratory.intrinsic+json": {
              "type": "string"
            }
          },
          "metadata": {},
          "execution_count": 5
        }
      ]
    }
  ]
}